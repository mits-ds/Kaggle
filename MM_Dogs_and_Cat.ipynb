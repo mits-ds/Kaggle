{
  "nbformat": 4,
  "nbformat_minor": 0,
  "metadata": {
    "colab": {
      "name": "MM Dogs and Cat.ipynb",
      "provenance": [],
      "authorship_tag": "ABX9TyMjVOyPNns+XsqLnQlQzavC",
      "include_colab_link": true
    },
    "kernelspec": {
      "name": "python3",
      "display_name": "Python 3"
    },
    "language_info": {
      "name": "python"
    }
  },
  "cells": [
    {
      "cell_type": "markdown",
      "metadata": {
        "id": "view-in-github",
        "colab_type": "text"
      },
      "source": [
        "<a href=\"https://colab.research.google.com/github/mits-ds/Kaggle/blob/main/MM_Dogs_and_Cat.ipynb\" target=\"_parent\"><img src=\"https://colab.research.google.com/assets/colab-badge.svg\" alt=\"Open In Colab\"/></a>"
      ]
    },
    {
      "cell_type": "code",
      "execution_count": 3,
      "metadata": {
        "colab": {
          "base_uri": "https://localhost:8080/"
        },
        "id": "xo6NVh0TRTRH",
        "outputId": "1125d086-20f6-47a6-afbf-c125b5624798"
      },
      "outputs": [
        {
          "output_type": "stream",
          "name": "stdout",
          "text": [
            "dogs-vs-cats.zip: Skipping, found more recently modified local copy (use --force to force download)\n"
          ]
        }
      ],
      "source": [
        "##Setup Kaggel Api key and username to download the data\n",
        "## To learn how to use Kaggle API keys see our youtube tutorial: https://www.youtube.com/watch?v=dR9C-_EvaNM\n",
        "import os\n",
        "os.environ['KAGGLE_USERNAME'] = \"manumadhav\" # username from the json file\n",
        "os.environ['KAGGLE_KEY'] = \"a3dc6fae35a7d69c2185148cdc5e34e7\" # Provide your key from the json file\n",
        "!kaggle competitions download -c dogs-vs-cats # api copied from kaggle"
      ]
    },
    {
      "cell_type": "code",
      "source": [
        "# Upload data and extract the contents\n",
        "from zipfile import ZipFile\n",
        "\n",
        "file_name = \"/content/test1.zip\"\n",
        "\n",
        "with ZipFile(file_name, 'r') as zip:\n",
        "  zip.extractall()\n",
        "  print('done')"
      ],
      "metadata": {
        "colab": {
          "base_uri": "https://localhost:8080/"
        },
        "id": "xu2qrNzDSnjs",
        "outputId": "06de0e1b-9d6b-42ae-f38b-be20ac739265"
      },
      "execution_count": 11,
      "outputs": [
        {
          "output_type": "stream",
          "name": "stdout",
          "text": [
            "done\n"
          ]
        }
      ]
    },
    {
      "cell_type": "code",
      "source": [
        "data_dir_list = os.listdir('/content/train')\n",
        "#print(data_dir_list)\n",
        "\n",
        "path, dirs, files = next(os.walk(\"/content/train\"))\n",
        "file_count = len(files)\n",
        "print(file_count)"
      ],
      "metadata": {
        "colab": {
          "base_uri": "https://localhost:8080/"
        },
        "id": "BFfIBb8ES7iQ",
        "outputId": "a98cc83a-61f8-4826-93ab-9a2ecdb37247"
      },
      "execution_count": 6,
      "outputs": [
        {
          "output_type": "stream",
          "name": "stdout",
          "text": [
            "25000\n"
          ]
        }
      ]
    }
  ]
}